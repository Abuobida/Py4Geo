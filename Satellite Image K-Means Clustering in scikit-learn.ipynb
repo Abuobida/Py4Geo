from matplotlib import pyplot as plt
import gdal
from sklearn import cluster
img = gdal.Open("PATH TO YOUR FILE")
data = img.ReadAsArray()
X = data.reshape((-1,1))
k_means = cluster.KMeans(n_clusters=8)
k_means.fit(X)
X_cluster = k_means.labels_
X_cluster = X_cluster.reshape(data.shape)
fig, (ax1, ax2) = plt.subplots(1, 2)
ax1.imshow(data)
ax2.imshow(X_cluster, cmap="hsv")
