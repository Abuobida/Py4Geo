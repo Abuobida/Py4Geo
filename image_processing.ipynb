{
 "cells": [
  {
   "cell_type": "code",
   "execution_count": 3,
   "metadata": {},
   "outputs": [],
   "source": [
    "#from osgeo import ogr\n",
    "#import gdal\n",
    "import cv2\n",
    "import matplotlib.pyplot as plt\n",
    "import numpy as np"
   ]
  },
  {
   "cell_type": "code",
   "execution_count": 2,
   "metadata": {},
   "outputs": [],
   "source": [
    "raster = gdal.Open(\"E://Final Year//images//composite_bands.tif\")"
   ]
  },
  {
   "cell_type": "code",
   "execution_count": 3,
   "metadata": {},
   "outputs": [
    {
     "name": "stdout",
     "output_type": "stream",
     "text": [
      "{'AREA_OR_POINT': 'Area', 'DataType': 'Generic'}\n"
     ]
    }
   ],
   "source": [
    "print (raster.GetMetadata())"
   ]
  },
  {
   "cell_type": "code",
   "execution_count": 4,
   "metadata": {},
   "outputs": [
    {
     "name": "stdout",
     "output_type": "stream",
     "text": [
      "Number of bands in image: 4\n",
      "\n"
     ]
    }
   ],
   "source": [
    "num_bands = raster.RasterCount\n",
    "print('Number of bands in image: {n}\\n'.format(n=num_bands))"
   ]
  },
  {
   "cell_type": "code",
   "execution_count": 5,
   "metadata": {},
   "outputs": [
    {
     "name": "stdout",
     "output_type": "stream",
     "text": [
      "Image size is: 496 rows x 652 columns\n",
      "\n"
     ]
    }
   ],
   "source": [
    "rows = raster.RasterYSize\n",
    "cols = raster.RasterXSize\n",
    "print('Image size is: {r} rows x {c} columns\\n'.format(r=rows, c=cols))"
   ]
  },
  {
   "cell_type": "code",
   "execution_count": 6,
   "metadata": {},
   "outputs": [
    {
     "name": "stdout",
     "output_type": "stream",
     "text": [
      "Raster description: E://Final Year//images//composite_bands.tif\n",
      "Raster metadata:\n",
      "{'AREA_OR_POINT': 'Area', 'DataType': 'Generic'}\n",
      "\n",
      "\n"
     ]
    }
   ],
   "source": [
    "desc = raster.GetDescription()\n",
    "metadata = raster.GetMetadata()\n",
    "\n",
    "print('Raster description: {desc}'.format(desc=desc))\n",
    "print('Raster metadata:')\n",
    "print(metadata)\n",
    "print('\\n')"
   ]
  },
  {
   "cell_type": "code",
   "execution_count": 7,
   "metadata": {},
   "outputs": [
    {
     "name": "stdout",
     "output_type": "stream",
     "text": [
      "Raster driver: GTiff\n",
      "\n"
     ]
    }
   ],
   "source": [
    "driver = raster.GetDriver()\n",
    "print('Raster driver: {d}\\n'.format(d=driver.ShortName))"
   ]
  },
  {
   "cell_type": "code",
   "execution_count": 8,
   "metadata": {},
   "outputs": [
    {
     "name": "stdout",
     "output_type": "stream",
     "text": [
      "Image projection:\n",
      "PROJCS[\"WGS_1984_UTM_Zone_43N\",GEOGCS[\"WGS 84\",DATUM[\"WGS_1984\",SPHEROID[\"WGS 84\",6378137,298.257223563,AUTHORITY[\"EPSG\",\"7030\"]],AUTHORITY[\"EPSG\",\"6326\"]],PRIMEM[\"Greenwich\",0],UNIT[\"degree\",0.0174532925199433],AUTHORITY[\"EPSG\",\"4326\"]],PROJECTION[\"Transverse_Mercator\"],PARAMETER[\"latitude_of_origin\",0],PARAMETER[\"central_meridian\",75],PARAMETER[\"scale_factor\",0.9996],PARAMETER[\"false_easting\",500000],PARAMETER[\"false_northing\",0],UNIT[\"metre\",1,AUTHORITY[\"EPSG\",\"9001\"]],AUTHORITY[\"EPSG\",\"32643\"]]\n",
      "\n"
     ]
    }
   ],
   "source": [
    "proj = raster.GetProjection()\n",
    "print('Image projection:')\n",
    "print(proj + '\\n')"
   ]
  },
  {
   "cell_type": "code",
   "execution_count": 9,
   "metadata": {},
   "outputs": [
    {
     "name": "stdout",
     "output_type": "stream",
     "text": [
      "Image geo-transform: (311955.0, 30.0, 0.0, 3738765.0, 0.0, -30.0)\n",
      "\n"
     ]
    }
   ],
   "source": [
    "gt = raster.GetGeoTransform()\n",
    "print('Image geo-transform: {gt}\\n'.format(gt=gt))"
   ]
  },
  {
   "cell_type": "code",
   "execution_count": 11,
   "metadata": {},
   "outputs": [
    {
     "name": "stdout",
     "output_type": "stream",
     "text": [
      "<osgeo.gdal.Band; proxy of <Swig Object of type 'GDALRasterBandShadow *' at 0x00000224C9DBA780> >\n"
     ]
    }
   ],
   "source": [
    "blue = raster.GetRasterBand(1)\n",
    "\n",
    "print(blue)"
   ]
  },
  {
   "cell_type": "code",
   "execution_count": 13,
   "metadata": {},
   "outputs": [
    {
     "name": "stdout",
     "output_type": "stream",
     "text": [
      "Band datatype: 4\n"
     ]
    }
   ],
   "source": [
    "datatype = blue.DataType\n",
    "print('Band datatype: {dt}'.format(dt=blue.DataType))"
   ]
  },
  {
   "cell_type": "code",
   "execution_count": 14,
   "metadata": {},
   "outputs": [
    {
     "name": "stdout",
     "output_type": "stream",
     "text": [
      "Band datatype: UInt32\n"
     ]
    }
   ],
   "source": [
    "datatype_name = gdal.GetDataTypeName(blue.DataType)\n",
    "print('Band datatype: {dt}'.format(dt=datatype_name))"
   ]
  },
  {
   "cell_type": "code",
   "execution_count": 15,
   "metadata": {},
   "outputs": [
    {
     "name": "stdout",
     "output_type": "stream",
     "text": [
      "Band datatype size: 32 bytes\n",
      "\n"
     ]
    }
   ],
   "source": [
    "bytes = gdal.GetDataTypeSize(blue.DataType)\n",
    "print('Band datatype size: {b} bytes\\n'.format(b=bytes))"
   ]
  },
  {
   "cell_type": "code",
   "execution_count": 16,
   "metadata": {},
   "outputs": [
    {
     "name": "stdout",
     "output_type": "stream",
     "text": [
      "Band range: 20881.0 - 7782.0\n",
      "Band mean, stddev: 9904.6534546307, 1106.2060961733\n",
      "\n"
     ]
    }
   ],
   "source": [
    "band_max, band_min, band_mean, band_stddev = blue.GetStatistics(0, 1)\n",
    "print('Band range: {minimum} - {maximum}'.format(maximum=band_max,minimum=band_min))\n",
    "print('Band mean, stddev: {m}, {s}\\n'.format(m=band_mean, s=band_stddev))"
   ]
  },
  {
   "cell_type": "code",
   "execution_count": 17,
   "metadata": {},
   "outputs": [
    {
     "name": "stdout",
     "output_type": "stream",
     "text": [
      "[[ 8752  8897 10454 ...  8711  8708  8689]\n",
      " [ 8799  8899  9985 ...  8737  8767  8708]\n",
      " [ 8811  8930  9197 ...  8737  8765  8701]\n",
      " ...\n",
      " [11226 11832 11719 ...  9630  9833  9968]\n",
      " [11645 12177 12011 ... 10245 10731 10816]\n",
      " [11272 11284 11716 ... 11186 11101 11197]]\n",
      "\n",
      "Blue band mean is: 9904.653454630912\n",
      "Size is: (496, 652)\n"
     ]
    }
   ],
   "source": [
    "blue_data = blue.ReadAsArray()\n",
    "\n",
    "print(blue_data)\n",
    "print()\n",
    "print('Blue band mean is: {m}'.format(m=blue_data.mean()))\n",
    "print('Size is: {sz}'.format(sz=blue_data.shape))"
   ]
  },
  {
   "cell_type": "code",
   "execution_count": 18,
   "metadata": {},
   "outputs": [
    {
     "name": "stdout",
     "output_type": "stream",
     "text": [
      "[[[ 8752. 15817.  9641. 65536.]\n",
      "  [ 8897. 15103.  9678. 65536.]\n",
      "  [10454. 16095. 10632. 65536.]\n",
      "  ...\n",
      "  [ 8711. 17946.  9744. 65536.]\n",
      "  [ 8708. 17375.  9721. 65536.]\n",
      "  [ 8689. 17668.  9715. 65536.]]\n",
      "\n",
      " [[ 8799. 15665.  9659. 65536.]\n",
      "  [ 8899. 15253.  9702. 65536.]\n",
      "  [ 9985. 15798. 10313. 65536.]\n",
      "  ...\n",
      "  [ 8737. 17365.  9742. 65536.]\n",
      "  [ 8767. 16997.  9752. 65536.]\n",
      "  [ 8708. 18010.  9769. 65536.]]\n",
      "\n",
      " [[ 8811. 15457.  9634. 65536.]\n",
      "  [ 8930. 15282.  9697. 65536.]\n",
      "  [ 9197. 15105.  9858. 65536.]\n",
      "  ...\n",
      "  [ 8737. 18153.  9778. 65536.]\n",
      "  [ 8765. 17968.  9794. 65536.]\n",
      "  [ 8701. 18284.  9754. 65536.]]\n",
      "\n",
      " ...\n",
      "\n",
      " [[11226. 14986. 11157. 65536.]\n",
      "  [11832. 14705. 11585. 65536.]\n",
      "  [11719. 15165. 11515. 65536.]\n",
      "  ...\n",
      "  [ 9630. 18749. 10286. 65536.]\n",
      "  [ 9833. 18375. 10418. 65536.]\n",
      "  [ 9968. 17459. 10448. 65536.]]\n",
      "\n",
      " [[11645. 15052. 11467. 65536.]\n",
      "  [12177. 15371. 11845. 65536.]\n",
      "  [12011. 15348. 11616. 65536.]\n",
      "  ...\n",
      "  [10245. 17189. 10605. 65536.]\n",
      "  [10731. 16753. 10790. 65536.]\n",
      "  [10816. 16041. 10829. 65536.]]\n",
      "\n",
      " [[11272. 14676. 11232. 65536.]\n",
      "  [11284. 15004. 11193. 65536.]\n",
      "  [11716. 15364. 11407. 65536.]\n",
      "  ...\n",
      "  [11186. 16125. 11181. 65536.]\n",
      "  [11101. 17193. 11095. 65536.]\n",
      "  [11197. 16338. 11241. 65536.]]]\n",
      "float64\n"
     ]
    }
   ],
   "source": [
    "# Initialize a 3d array -- use the size properties of our image for portability!\n",
    "image = np.zeros((raster.RasterYSize, raster.RasterXSize, raster.RasterCount))\n",
    "\n",
    "# Loop over all bands in dataset\n",
    "for b in range(raster.RasterCount):\n",
    "    # Remember, GDAL index is on 1, but Python is on 0 -- so we add 1 for our GDAL calls\n",
    "    band = raster.GetRasterBand(b + 1)\n",
    "    \n",
    "    # Read in the band's data into the third dimension of our array\n",
    "    image[:, :, b] = band.ReadAsArray()\n",
    "\n",
    "print(image)\n",
    "print(image.dtype)"
   ]
  },
  {
   "cell_type": "code",
   "execution_count": 19,
   "metadata": {},
   "outputs": [
    {
     "data": {
      "text/plain": [
       "4"
      ]
     },
     "execution_count": 19,
     "metadata": {},
     "output_type": "execute_result"
    }
   ],
   "source": [
    "raster.GetRasterBand(1).DataType\n"
   ]
  },
  {
   "cell_type": "code",
   "execution_count": 20,
   "metadata": {},
   "outputs": [
    {
     "name": "stdout",
     "output_type": "stream",
     "text": [
      "Compare datatypes: \n",
      "    when unspecified: float64\n",
      "    when specified: uint32\n",
      "Red band mean: 10396.610358326736\n",
      "NIR band mean: 20726.81738880368\n"
     ]
    }
   ],
   "source": [
    "\n",
    "from osgeo import gdal_array\n",
    "\n",
    "# DataType is a property of the individual raster bands\n",
    "image_datatype = raster.GetRasterBand(1).DataType\n",
    "\n",
    "# Allocate our array, but in a more efficient way\n",
    "image_correct = np.zeros((raster.RasterYSize, raster.RasterXSize, raster.RasterCount),\n",
    "                 dtype=gdal_array.GDALTypeCodeToNumericTypeCode(image_datatype))\n",
    "\n",
    "# Loop over all bands in dataset\n",
    "for b in range(raster.RasterCount):\n",
    "    # Remember, GDAL index is on 1, but Python is on 0 -- so we add 1 for our GDAL calls\n",
    "    band = raster.GetRasterBand(b + 1)\n",
    "    \n",
    "    # Read in the band's data into the third dimension of our array\n",
    "    image_correct[:, :, b] = band.ReadAsArray()\n",
    "\n",
    "print(\"Compare datatypes: \")\n",
    "print(\"    when unspecified: {dt}\".format(dt=image.dtype))\n",
    "print(\"    when specified: {dt}\".format(dt=image_correct.dtype))\n",
    "print('Red band mean: {r}'.format(r=image[:, :, 2].mean()))\n",
    "print('NIR band mean: {nir}'.format(nir=image[:, :, 3].mean()))"
   ]
  },
  {
   "cell_type": "code",
   "execution_count": 21,
   "metadata": {},
   "outputs": [
    {
     "name": "stdout",
     "output_type": "stream",
     "text": [
      "[[0.74351198 0.74265429 0.72082764 ... 0.74112646 0.74165858 0.74179745]\n",
      " [0.74309462 0.74209841 0.72806497 ... 0.74117272 0.74094145 0.74054844]\n",
      " [0.74367434 0.74221419 0.73849378 ... 0.74034044 0.7399708  0.74089521]\n",
      " ...\n",
      " [0.70904776 0.69956302 0.70110706 ... 0.72868033 0.72567607 0.72499474]\n",
      " [0.70216745 0.6938525  0.69888013 ... 0.72143786 0.71726541 0.7163884 ]\n",
      " [0.70737807 0.7082459  0.70349479 ... 0.70851311 0.7104305  0.70717793]]\n",
      "Maximum value of NDVI = 0.7641390077794826 \n"
     ]
    }
   ],
   "source": [
    "b_red = 2\n",
    "b_nir = 3\n",
    "\n",
    "ndvi = (image[:, :, b_nir] - image[:, :, b_red]) / (image[:, :, b_red] + image[:, :, b_nir])\n",
    "\n",
    "print(ndvi)\n",
    "print('Maximum value of NDVI = {ndvi} '.format(ndvi=ndvi.max()) )"
   ]
  },
  {
   "cell_type": "code",
   "execution_count": 22,
   "metadata": {},
   "outputs": [
    {
     "name": "stdout",
     "output_type": "stream",
     "text": [
      "NDVI matrix: \n",
      "[[0.74351198 0.74265429 0.72082764 ... 0.74112646 0.74165858 0.74179745]\n",
      " [0.74309462 0.74209841 0.72806497 ... 0.74117272 0.74094145 0.74054844]\n",
      " [0.74367434 0.74221419 0.73849378 ... 0.74034044 0.7399708  0.74089521]\n",
      " ...\n",
      " [0.70904776 0.69956302 0.70110706 ... 0.72868033 0.72567607 0.72499474]\n",
      " [0.70216745 0.6938525  0.69888013 ... 0.72143786 0.71726541 0.7163884 ]\n",
      " [0.70737807 0.7082459  0.70349479 ... 0.70851311 0.7104305  0.70717793]]\n",
      "\n",
      "Max NDVI: 0.7641390077794826\n",
      "Mean NDVI: 0.15482939319683586\n",
      "Median NDVI: 0.03503760830238979\n",
      "Min NDVI: -0.08215587623896604\n"
     ]
    }
   ],
   "source": [
    "ndvi = (image[:, :, b_nir] - image[:, :, b_red]) / \\\n",
    "        (image[:, :, b_nir] + image[:, :, b_red]).astype(np.float64)\n",
    "\n",
    "print('NDVI matrix: ')\n",
    "print(ndvi)\n",
    "\n",
    "print('\\nMax NDVI: {m}'.format(m=ndvi.max()))\n",
    "print('Mean NDVI: {m}'.format(m=ndvi.mean()))\n",
    "print('Median NDVI: {m}'.format(m=np.median(ndvi)))\n",
    "print('Min NDVI: {m}'.format(m=ndvi.min()))"
   ]
  },
  {
   "cell_type": "code",
   "execution_count": 23,
   "metadata": {},
   "outputs": [
    {
     "name": "stdout",
     "output_type": "stream",
     "text": [
      "Array shape before: (496, 652) (size is 323392)\n",
      "Array shape after: (323392,) (size is 323392)\n"
     ]
    }
   ],
   "source": [
    "print('Array shape before: {shp} (size is {sz})'.format(shp=image[:, :, 2].shape, sz=image[:, :, 3].size))\n",
    "\n",
    "red = np.ndarray.flatten(image[:, :, 2])\n",
    "nir = np.ndarray.flatten(image[:, :, 3])\n",
    "\n",
    "print('Array shape after: {shp} (size is {sz})'.format(shp=nir.shape, sz=nir.size))"
   ]
  },
  {
   "cell_type": "code",
   "execution_count": 24,
   "metadata": {},
   "outputs": [
    {
     "data": {
      "text/plain": [
       "Text(0.5, 1.0, 'Tasseled Cap, eh?')"
      ]
     },
     "execution_count": 24,
     "metadata": {},
     "output_type": "execute_result"
    },
    {
     "data": {
      "image/png": "[encoded data removed]",
      "text/plain": [
       "<Figure size 432x288 with 1 Axes>"
      ]
     },
     "metadata": {
      "needs_background": "light"
     },
     "output_type": "display_data"
    }
   ],
   "source": [
    "# Make the plot\n",
    "plt.scatter(red, nir, color='r', marker='o')\n",
    "\n",
    "# Add some axis labels\n",
    "plt.xlabel('Red Reflectance')\n",
    "plt.ylabel('NIR label')\n",
    "\n",
    "# Add a title\n",
    "plt.title('Tasseled Cap, eh?')"
   ]
  },
  {
   "cell_type": "code",
   "execution_count": 25,
   "metadata": {},
   "outputs": [
    {
     "data": {
      "text/plain": [
       "Text(0.5, 1.0, 'Tasseled Cap, eh?')"
      ]
     },
     "execution_count": 25,
     "metadata": {},
     "output_type": "execute_result"
    },
    {
     "data": {
      "image/png": "[encoded data removed]",
      "text/plain": [
       "<Figure size 432x288 with 1 Axes>"
      ]
     },
     "metadata": {
      "needs_background": "light"
     },
     "output_type": "display_data"
    }
   ],
   "source": [
    "# Make the plot\n",
    "plt.scatter(red, nir, color='r', marker='o')\n",
    "\n",
    "# Calculate min and max\n",
    "plot_min = min(red.min(), nir.min())\n",
    "plot_max = max(red.max(), nir.max())\n",
    "\n",
    "plt.xlim((plot_min, plot_max))\n",
    "plt.ylim((plot_min, plot_max))\n",
    "\n",
    "# Add some axis labels\n",
    "plt.xlabel('Red Reflectance')\n",
    "plt.ylabel('NIR label')\n",
    "\n",
    "# Add a title\n",
    "plt.title('Tasseled Cap, eh?')"
   ]
  },
  {
   "cell_type": "code",
   "execution_count": 26,
   "metadata": {},
   "outputs": [
    {
     "data": {
      "text/plain": [
       "<matplotlib.colorbar.Colorbar at 0x224ce74e3c8>"
      ]
     },
     "execution_count": 26,
     "metadata": {},
     "output_type": "execute_result"
    },
    {
     "data": {
      "image/png": "[encoded data removed]",
      "text/plain": [
       "<Figure size 432x288 with 2 Axes>"
      ]
     },
     "metadata": {
      "needs_background": "light"
     },
     "output_type": "display_data"
    }
   ],
   "source": [
    "plt.imshow(image[:, :, 3])\n",
    "plt.colorbar()"
   ]
  },
  {
   "cell_type": "code",
   "execution_count": 27,
   "metadata": {},
   "outputs": [
    {
     "data": {
      "text/plain": [
       "<matplotlib.colorbar.Colorbar at 0x224d04c2d68>"
      ]
     },
     "execution_count": 27,
     "metadata": {},
     "output_type": "execute_result"
    },
    {
     "data": {
      "image/png": "[encoded data removed]",
      "text/plain": [
       "<Figure size 432x288 with 4 Axes>"
      ]
     },
     "metadata": {
      "needs_background": "light"
     },
     "output_type": "display_data"
    }
   ],
   "source": [
    "# use \"imshow\" for an image -- nir in first subplot, red in second\n",
    "plt.subplot(121)\n",
    "plt.imshow(image[:, :, 3], cmap=plt.cm.Greys)\n",
    "plt.colorbar()\n",
    "\n",
    "# Now red band in the second subplot (indicated by last of the 3 numbers)\n",
    "plt.subplot(122)\n",
    "plt.imshow(image[:, :, 2], cmap=plt.cm.Greys)\n",
    "plt.colorbar()"
   ]
  },
  {
   "cell_type": "code",
   "execution_count": 28,
   "metadata": {},
   "outputs": [
    {
     "data": {
      "text/plain": [
       "<matplotlib.image.AxesImage at 0x224d0556358>"
      ]
     },
     "execution_count": 28,
     "metadata": {},
     "output_type": "execute_result"
    },
    {
     "data": {
      "image/png": "[encoded data removed]",
      "text/plain": [
       "<Figure size 432x288 with 1 Axes>"
      ]
     },
     "metadata": {
      "needs_background": "light"
     },
     "output_type": "display_data"
    }
   ],
   "source": [
    "plt.subplot(121)\n",
    "plt.imshow(ndvi)"
   ]
  },
  {
   "cell_type": "code",
   "execution_count": 31,
   "metadata": {},
   "outputs": [],
   "source": [
    "# Import Python 3 print function\n",
    "from __future__ import print_function\n",
    "\n",
    "# Import OGR - \n",
    "from osgeo import ogr\n",
    "\n",
    "# Open the dataset from the file\n",
    "dataset = ogr.Open('E:Raw//DATA//gadm36_PAK_shp//gadm36_PAK_2.shp')\n",
    "# Make sure the dataset exists -- it would be None if we couldn't open it\n",
    "if not dataset:\n",
    "    print('Error: could not open dataset')"
   ]
  },
  {
   "cell_type": "code",
   "execution_count": 32,
   "metadata": {},
   "outputs": [
    {
     "name": "stdout",
     "output_type": "stream",
     "text": [
      "Dataset driver is: ESRI Shapefile\n",
      "\n"
     ]
    }
   ],
   "source": [
    "### Let's get the driver from this file\n",
    "driver = dataset.GetDriver()\n",
    "print('Dataset driver is: {n}\\n'.format(n=driver.name))"
   ]
  },
  {
   "cell_type": "code",
   "execution_count": 33,
   "metadata": {},
   "outputs": [
    {
     "name": "stdout",
     "output_type": "stream",
     "text": [
      "Number of layers = 1\n",
      "\n"
     ]
    }
   ],
   "source": [
    "# How many layers contain in shapefile\n",
    "layers = dataset.GetLayerCount()\n",
    "print('Number of layers = {n}\\n'.format(n=layers))"
   ]
  },
  {
   "cell_type": "code",
   "execution_count": 34,
   "metadata": {},
   "outputs": [
    {
     "name": "stdout",
     "output_type": "stream",
     "text": [
      "The layer is named: gadm36_PAK_2\n",
      "\n"
     ]
    }
   ],
   "source": [
    "### What is the name of the 1 layer?\n",
    "layer = dataset.GetLayerByIndex(0)\n",
    "print('The layer is named: {n}\\n'.format(n=layer.GetName()))"
   ]
  },
  {
   "cell_type": "code",
   "execution_count": 37,
   "metadata": {},
   "outputs": [],
   "source": [
    "geometry = layer.GetGeomType()"
   ]
  },
  {
   "cell_type": "code",
   "execution_count": 38,
   "metadata": {},
   "outputs": [
    {
     "name": "stdout",
     "output_type": "stream",
     "text": [
      "The layer's geometry is: Polygon\n",
      "\n"
     ]
    }
   ],
   "source": [
    "# So we need to translate it to the name of the enum\n",
    "geometry_name = ogr.GeometryTypeToName(geometry)\n",
    "print(\"The layer's geometry is: {geom}\\n\".format(geom=geometry_name))"
   ]
  },
  {
   "cell_type": "code",
   "execution_count": 39,
   "metadata": {},
   "outputs": [],
   "source": [
    "# Get the spatial reference\n",
    "spatial_ref = layer.GetSpatialRef()"
   ]
  },
  {
   "cell_type": "code",
   "execution_count": 40,
   "metadata": {},
   "outputs": [
    {
     "name": "stdout",
     "output_type": "stream",
     "text": [
      "Layer projection is: +proj=longlat +datum=WGS84 +no_defs \n",
      "\n"
     ]
    }
   ],
   "source": [
    "# Export this spatial reference to something we can read... like the Proj4\n",
    "proj4 = spatial_ref.ExportToProj4()\n",
    "print('Layer projection is: {proj4}\\n'.format(proj4=proj4))"
   ]
  },
  {
   "cell_type": "code",
   "execution_count": 41,
   "metadata": {},
   "outputs": [
    {
     "name": "stdout",
     "output_type": "stream",
     "text": [
      "Layer has 32 features\n",
      "\n"
     ]
    }
   ],
   "source": [
    "### How many features are in the layer?\n",
    "feature_count = layer.GetFeatureCount()\n",
    "print('Layer has {n} features\\n'.format(n=feature_count))"
   ]
  },
  {
   "cell_type": "code",
   "execution_count": 42,
   "metadata": {},
   "outputs": [],
   "source": [
    "### How many fields are in the shapefile, and what are their names?\n",
    "# First we need to capture the layer definition\n",
    "defn = layer.GetLayerDefn()"
   ]
  },
  {
   "cell_type": "code",
   "execution_count": 43,
   "metadata": {},
   "outputs": [
    {
     "name": "stdout",
     "output_type": "stream",
     "text": [
      "Layer has 13 fields\n"
     ]
    }
   ],
   "source": [
    "# How many fields\n",
    "field_count = defn.GetFieldCount()\n",
    "print('Layer has {n} fields'.format(n=field_count))"
   ]
  },
  {
   "cell_type": "code",
   "execution_count": 44,
   "metadata": {},
   "outputs": [
    {
     "name": "stdout",
     "output_type": "stream",
     "text": [
      "Their names are: \n",
      "\tGID_0 - String\n",
      "\tNAME_0 - String\n",
      "\tGID_1 - String\n",
      "\tNAME_1 - String\n",
      "\tNL_NAME_1 - String\n",
      "\tGID_2 - String\n",
      "\tNAME_2 - String\n",
      "\tVARNAME_2 - String\n",
      "\tNL_NAME_2 - String\n",
      "\tTYPE_2 - String\n",
      "\tENGTYPE_2 - String\n",
      "\tCC_2 - String\n",
      "\tHASC_2 - String\n"
     ]
    }
   ],
   "source": [
    "# What are their names?\n",
    "print('Their names are: ')\n",
    "for i in range(field_count):\n",
    "    field_defn = defn.GetFieldDefn(i)\n",
    "    print('\\t{name} - {datatype}'.format(name=field_defn.GetName(),\n",
    "                                         datatype=field_defn.GetTypeName()))"
   ]
  },
  {
   "cell_type": "code",
   "execution_count": 49,
   "metadata": {},
   "outputs": [
    {
     "name": "stderr",
     "output_type": "stream",
     "text": [
      "UsageError: Line magic function `%%bash` not found.\n"
     ]
    }
   ],
   "source": [
    "\n",
    "%%bash\n",
    "\n",
    "# Print out the usage\n",
    "gdal_rasterize --help"
   ]
  },
  {
   "cell_type": "code",
   "execution_count": 4,
   "metadata": {},
   "outputs": [
    {
     "name": "stdout",
     "output_type": "stream",
     "text": [
      "0\n",
      "1\n",
      "2\n",
      "3\n",
      "4\n",
      "5\n",
      "6\n",
      "7\n",
      "8\n",
      "9\n",
      "10\n"
     ]
    }
   ],
   "source": [
    "#z = range (10)\n",
    "for num in range(11):\n",
    "    print(num)"
   ]
  },
  {
   "cell_type": "code",
   "execution_count": 9,
   "metadata": {},
   "outputs": [
    {
     "name": "stdout",
     "output_type": "stream",
     "text": [
      "0\n",
      "5\n",
      "10\n",
      "15\n",
      "20\n",
      "25\n",
      "30\n",
      "35\n",
      "40\n",
      "45\n",
      "50\n"
     ]
    }
   ],
   "source": [
    "z=5\n",
    "\n",
    "r = range(11)\n",
    "for num in r:\n",
    "    x=z*num\n",
    "    print(x)"
   ]
  },
  {
   "cell_type": "code",
   "execution_count": null,
   "metadata": {},
   "outputs": [],
   "source": []
  }
 ],
 "metadata": {
  "kernelspec": {
   "display_name": "Python 3",
   "language": "python",
   "name": "python3"
  },
  "language_info": {
   "codemirror_mode": {
    "name": "ipython",
    "version": 3
   },
   "file_extension": ".py",
   "mimetype": "text/x-python",
   "name": "python",
   "nbconvert_exporter": "python",
   "pygments_lexer": "ipython3",
   "version": "3.6.7"
  }
 },
 "nbformat": 4,
 "nbformat_minor": 2
}
